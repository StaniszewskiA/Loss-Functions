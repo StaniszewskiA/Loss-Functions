import json
from typing import Dict
import torch
from torch import optim
from torchvision import datasets, transforms


def get_config_cnnh_cifar():
    if torch.cuda.is_available():
        device = torch.device("cuda:0")
    else:
        device = torch.device("cpu")

    config = {
        "T": 30,
        "hash_save_path": "save/CNNH/",
        "optimizer": {
            "type": optim.Adam,
            "optim_params": {
                "lr": 1e-4,
                "betas": (0.9, 0.999)
            }
        },
        "info": "[CNNH]",
        "resize_size": 64,
        "crop_size": 32,
        "batch_size": 8,
        "net": "ResNet", 
        "dataset": "cifar",  
        "epochs": 100,
        "save_interval": 10,
        "test_MAP": 10,
        "device": device,
        "bit_list": [12],
    }

    return config

cnnh_config_cifar = get_config_cnnh_cifar()

transform = transforms.Compose([
    transforms.Resize(64),
    transforms.CenterCrop(32),
    transforms.ToTensor(),
])

cifar_dataset = datasets.CIFAR10(root='./data', train=True, download=True, transform=transform)
train_loader = torch.utils.data.DataLoader(cifar_dataset, batch_size=8, shuffle=True, num_workers=4)
      
def calculate_total_loss(hash_matrix, sim_matrix, positive_indices, negative_indices):
  reconstruction_loss = torch.nn.functional.mse_loss(hash_matrix, sim_matrix)
  anchor_positive_similarity = torch.nn.functional.cosine_similarity(hash_matrix, hash_matrix[positive_indices], dim=-1).unsqueeze(1)
  anchor_negative_similarity = torch.nn.functional.cosine_similarity(hash_matrix, hash_matrix[negative_indices], dim=-1).unsqueeze(1)
  triplet_loss = torch.nn.functional.triplet_margin_loss(hash_matrix, anchor_positive_similarity, anchor_negative_similarity,
                                                               margin=1.0)
  
  alpha = 0.3
  loss = alpha * reconstruction_loss + (1 - alpha) * triplet_loss

  print(loss)


hashes = 2 * torch.rand((8, 8)) - 1
hash_matrix = hashes @ hashes.t()
sim_matrix = 2 * torch.rand((8, 8)) - 1

positive_indices = torch.randint(0, hashes.size(0), (8,))
negative_indices = torch.randint(0, hashes.size(0), (8,))


calculate_total_loss(hash_matrix, sim_matrix, positive_indices, negative_indices)
