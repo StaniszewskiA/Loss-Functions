{
  "nbformat": 4,
  "nbformat_minor": 0,
  "metadata": {
    "colab": {
      "provenance": [],
      "authorship_tag": "ABX9TyNJoMTCKRUffTG4hWttAcQy",
      "include_colab_link": true
    },
    "kernelspec": {
      "name": "python3",
      "display_name": "Python 3"
    },
    "language_info": {
      "name": "python"
    }
  },
  "cells": [
    {
      "cell_type": "markdown",
      "metadata": {
        "id": "view-in-github",
        "colab_type": "text"
      },
      "source": [
        "<a href=\"https://colab.research.google.com/github/StaniszewskiA/Loss-Functions/blob/main/Main.ipynb\" target=\"_parent\"><img src=\"https://colab.research.google.com/assets/colab-badge.svg\" alt=\"Open In Colab\"/></a>"
      ]
    },
    {
      "cell_type": "code",
      "execution_count": 1,
      "metadata": {
        "colab": {
          "base_uri": "https://localhost:8080/"
        },
        "id": "vmOwr2HSRHl1",
        "outputId": "ea2d34a7-d1ca-49c6-b7a9-657f3a9babad"
      },
      "outputs": [
        {
          "output_type": "stream",
          "name": "stdout",
          "text": [
            "Files already downloaded and verified\n"
          ]
        },
        {
          "output_type": "stream",
          "name": "stderr",
          "text": [
            "/usr/local/lib/python3.10/dist-packages/torch/utils/data/dataloader.py:557: UserWarning: This DataLoader will create 4 worker processes in total. Our suggested max number of worker in current system is 2, which is smaller than what this DataLoader is going to create. Please be aware that excessive worker creation might get DataLoader running slow or even freeze, lower the worker number to avoid potential slowness/freeze if necessary.\n",
            "  warnings.warn(_create_warning_msg(\n"
          ]
        }
      ],
      "source": [
        "import json\n",
        "from typing import Dict\n",
        "import torch\n",
        "from torch import optim\n",
        "from torchvision import datasets, transforms\n",
        "\n",
        "\n",
        "def get_config_cnnh_cifar():\n",
        "    if torch.cuda.is_available():\n",
        "        device = torch.device(\"cuda:0\")\n",
        "    else:\n",
        "        device = torch.device(\"cpu\")\n",
        "\n",
        "    config = {\n",
        "        \"T\": 30,\n",
        "        \"hash_save_path\": \"save/CNNH/\",\n",
        "        \"optimizer\": {\n",
        "            \"type\": optim.Adam,\n",
        "            \"optim_params\": {\n",
        "                \"lr\": 1e-4,\n",
        "                \"betas\": (0.9, 0.999)\n",
        "            }\n",
        "        },\n",
        "        \"info\": \"[CNNH]\",\n",
        "        \"resize_size\": 64,\n",
        "        \"crop_size\": 32,\n",
        "        \"batch_size\": 8,\n",
        "        \"net\": \"ResNet\",\n",
        "        \"dataset\": \"cifar\",\n",
        "        \"epochs\": 100,\n",
        "        \"save_interval\": 10,\n",
        "        \"test_MAP\": 10,\n",
        "        \"device\": device,\n",
        "        \"bit_list\": [12],\n",
        "    }\n",
        "\n",
        "    return config\n",
        "\n",
        "cnnh_config_cifar = get_config_cnnh_cifar()\n",
        "\n",
        "transform = transforms.Compose([\n",
        "    transforms.Resize(64),\n",
        "    transforms.CenterCrop(32),\n",
        "    transforms.ToTensor(),\n",
        "])\n",
        "\n",
        "cifar_dataset = datasets.CIFAR10(root='./data', train=True, download=True, transform=transform)\n",
        "train_loader = torch.utils.data.DataLoader(cifar_dataset, batch_size=8, shuffle=True, num_workers=4)\n",
        "\n",
        "\n"
      ]
    },
    {
      "cell_type": "code",
      "source": [
        "def calculate_total_loss(hash_matrix, sim_matrix, anchor, anchor_positive_similarity, anchor_negative_similarity):\n",
        "  reconstruction_loss = torch.nn.functional.mse_loss(hash_matrix, sim_matrix)\n",
        "  #Triplet loss\n",
        "  margin = 1.0\n",
        "  anchors_tensor = torch.from_numpy(anchors)\n",
        "  positives_tensor = torch.from_numpy(positives)\n",
        "  negatives_tensor = torch.from_numpy(negatives)\n",
        "  triplet_loss = torch.nn.functional.triplet_margin_loss(anchors_tensor, positives_tensor, negatives_tensor, margin=margin)\n",
        "\n",
        "  alpha = 0.3\n",
        "  loss = alpha * reconstruction_loss + (1 - alpha) * triplet_loss\n",
        "\n",
        "  print(loss)\n",
        "\n",
        "\n",
        "hashes = 2 * torch.rand((8, 8)) - 1\n",
        "hash_matrix = hashes @ hashes.t()\n",
        "sim_matrix = 2 * torch.rand((8, 8)) - 1\n",
        "\n",
        "positive_indices = torch.randint(0, hashes.size(0), (8,))\n",
        "negative_indices = torch.randint(0, hashes.size(0), (8,))\n",
        "\n"
      ],
      "metadata": {
        "id": "dpD-iCm5RgfJ"
      },
      "execution_count": 35,
      "outputs": []
    },
    {
      "cell_type": "code",
      "source": [
        "bits = 12\n",
        "n = 10000\n",
        "train_labels = torch.tensor([], dtype=torch.long)\n",
        "\n",
        "for data, labels in train_loader:\n",
        "    train_labels = torch.cat((train_labels, labels), dim=0)"
      ],
      "metadata": {
        "colab": {
          "base_uri": "https://localhost:8080/"
        },
        "id": "tYbb7E72SM9h",
        "outputId": "e92d476b-7095-456f-d1de-b140f477371c"
      },
      "execution_count": 5,
      "outputs": [
        {
          "output_type": "stream",
          "name": "stderr",
          "text": [
            "/usr/local/lib/python3.10/dist-packages/torch/utils/data/dataloader.py:557: UserWarning: This DataLoader will create 4 worker processes in total. Our suggested max number of worker in current system is 2, which is smaller than what this DataLoader is going to create. Please be aware that excessive worker creation might get DataLoader running slow or even freeze, lower the worker number to avoid potential slowness/freeze if necessary.\n",
            "  warnings.warn(_create_warning_msg(\n"
          ]
        }
      ]
    },
    {
      "cell_type": "code",
      "source": [
        "hashes = 2 * torch.rand((n, bits)) - 1"
      ],
      "metadata": {
        "id": "8hdMivFRWqrg"
      },
      "execution_count": 6,
      "outputs": []
    },
    {
      "cell_type": "code",
      "source": [
        "import numpy as np\n",
        "\n",
        "train_labels_capped = train_labels[:10000]\n",
        "sim_matrix = np.outer(train_labels_capped, train_labels_capped)\n",
        "hash_numpy = np.array(hashes)\n",
        "hash_transposed = hash_numpy.T\n",
        "\n",
        "hash_matrix = np.dot(hash_numpy, hash_transposed)\n",
        "print(hash_matrix)"
      ],
      "metadata": {
        "colab": {
          "base_uri": "https://localhost:8080/"
        },
        "id": "jsEqCOPAZzG2",
        "outputId": "0e95422b-ad42-475f-989c-c49f33051a69"
      },
      "execution_count": 13,
      "outputs": [
        {
          "output_type": "stream",
          "name": "stdout",
          "text": [
            "[[ 2.7619655   0.7458481  -1.1143789  ...  0.5674983   0.933864\n",
            "   0.18928388]\n",
            " [ 0.7458481   5.979451   -0.8006763  ... -1.131736   -0.15816414\n",
            "  -1.1609393 ]\n",
            " [-1.1143789  -0.8006763   2.9577866  ... -0.16948736  0.29779795\n",
            "  -0.3639501 ]\n",
            " ...\n",
            " [ 0.5674983  -1.131736   -0.16948736 ...  2.5785925  -1.2006694\n",
            "   1.1310997 ]\n",
            " [ 0.933864   -0.15816414  0.29779795 ... -1.2006694   3.6475048\n",
            "   0.21115881]\n",
            " [ 0.18928388 -1.1609393  -0.3639501  ...  1.1310997   0.21115881\n",
            "   4.1738977 ]]\n"
          ]
        }
      ]
    },
    {
      "cell_type": "code",
      "source": [
        "def generate_triplets(labels, hashes):\n",
        "  triplets = []\n",
        "  unique_labels = np.unique(labels)\n",
        "\n",
        "  for label in unique_labels:\n",
        "    label_indices = np.where(labels == label)[0]\n",
        "\n",
        "    if len(label_indices) < 2:\n",
        "            # Skip if there are less than two samples for the current label\n",
        "            continue\n",
        "\n",
        "    anchor_pos_pairs = np.random.choice(label_indices, size=(len(label_indices), 2), replace=True)\n",
        "\n",
        "    for anchor_idx, pos_idx in anchor_pos_pairs:\n",
        "      negative_label = label\n",
        "      while negative_label == label:\n",
        "          negative_label = np.random.choice(unique_labels)\n",
        "\n",
        "      negative_indices = np.where(labels == negative_label)[0]\n",
        "      neg_idx = np.random.choice(negative_indices)\n",
        "\n",
        "      # Append the triplet [anchor, positive, negative] to the list\n",
        "      triplet = (hashes[anchor_idx], hashes[pos_idx], hashes[neg_idx])\n",
        "      triplets.append(triplet)\n",
        "\n",
        "    return np.array(triplets)"
      ],
      "metadata": {
        "id": "o9u8G_5EsAkj"
      },
      "execution_count": 19,
      "outputs": []
    },
    {
      "cell_type": "code",
      "source": [
        "triplets = generate_triplets(train_labels[:10000], hash_numpy)\n",
        "for i in range(5):\n",
        "    print(\"Triplet {}: Anchor - {}, Positive - {}, Negative - {}\".format(i+1, triplets[i][0], triplets[i][1], triplets[i][2]))"
      ],
      "metadata": {
        "colab": {
          "base_uri": "https://localhost:8080/"
        },
        "id": "eD1o_wqOuXyN",
        "outputId": "39f632b7-8e18-4b61-f6c9-ee658343a9ae"
      },
      "execution_count": 24,
      "outputs": [
        {
          "output_type": "stream",
          "name": "stdout",
          "text": [
            "Triplet 1: Anchor - [-0.78022134 -0.15015352 -0.67671406  0.20092511  0.85447574 -0.4039936\n",
            "  0.35563433 -0.77577865  0.16380537 -0.68803287 -0.6849495  -0.65226984], Positive - [ 0.85655713 -0.06814587  0.33272076 -0.5474824  -0.24060702  0.6803856\n",
            " -0.5858886  -0.5691786   0.855338    0.36310172 -0.5310979   0.39090657], Negative - [-0.28000426 -0.58267117  0.04504192 -0.3847071  -0.5881288   0.9838792\n",
            "  0.29649985  0.9695395   0.33961844  0.8838202  -0.9405385  -0.8587575 ]\n",
            "Triplet 2: Anchor - [ 0.7398747   0.69438434 -0.04233432 -0.1617055  -0.11535013 -0.21859801\n",
            " -0.7656318  -0.09557378  0.3232448   0.43168592 -0.8978088   0.682775  ], Positive - [-0.17124736  0.6884593   0.4962902   0.3269559  -0.6382916  -0.28881764\n",
            " -0.79716706 -0.23736918 -0.60207856  0.03670335  0.05979538 -0.5493891 ], Negative - [-0.02591014 -0.4490205  -0.7568866   0.4024192   0.82380354 -0.67825747\n",
            "  0.2849412  -0.6462605   0.5900525  -0.22745776  0.8979193   0.05336714]\n",
            "Triplet 3: Anchor - [ 0.02920592  0.8104987   0.20637655  0.7013804   0.5809064   0.318812\n",
            " -0.21444523  0.52268326  0.21010244  0.06624508 -0.437899    0.7720052 ], Positive - [ 0.10044873 -0.9466704   0.5837753   0.41481888 -0.1724528   0.8404298\n",
            " -0.2686504   0.4745915  -0.47002637 -0.22374392  0.2752198   0.7833142 ], Negative - [ 0.11301315  0.6896527  -0.716854    0.00827456  0.31517756  0.6873621\n",
            "  0.7514852  -0.86436343  0.70375943 -0.2197746   0.75561666 -0.05910385]\n",
            "Triplet 4: Anchor - [ 0.3305322   0.27843916  0.6401782   0.9047172  -0.2880857   0.5923152\n",
            "  0.3496946   0.16526914  0.47396696  0.44609225 -0.1862297  -0.13827515], Positive - [ 0.6630665   0.29674923  0.7113303  -0.8617245  -0.15463221  0.41173446\n",
            " -0.50409114 -0.6434307  -0.3475759  -0.7420279  -0.6981275  -0.60863984], Negative - [-0.3082775  -0.1473602   0.66791177  0.16825712 -0.8349657  -0.7209915\n",
            "  0.5821588   0.34479022  0.7620295   0.7793399  -0.11306763 -0.6129422 ]\n",
            "Triplet 5: Anchor - [-0.0066905   0.43767452 -0.9309187   0.9081893   0.05857944  0.03316355\n",
            " -0.5030395   0.815099    0.89987814 -0.8568878  -0.64018464  0.17857087], Positive - [-0.4039929  -0.37707675  0.876189    0.23248553 -0.7766541   0.9437494\n",
            " -0.7348014   0.5528374   0.15337932 -0.58906865  0.29296112 -0.48747444], Negative - [-0.5785084   0.83950686 -0.6098274  -0.3826903   0.33013213  0.37682033\n",
            "  0.03930652  0.40595198 -0.77809525  0.00270855  0.34332955 -0.67836773]\n"
          ]
        }
      ]
    },
    {
      "cell_type": "code",
      "source": [
        "anchors, positives, negatives = triplets[:, 0], triplets[:, 1], triplets[:, 2]\n",
        "calculate_total_loss(hash_matrix, sim_matrix, anchors, positives, negatives)"
      ],
      "metadata": {
        "colab": {
          "base_uri": "https://localhost:8080/"
        },
        "id": "1f6opRCEvnDa",
        "outputId": "32421735-80c7-4ce7-f589-bf87d159a1e2"
      },
      "execution_count": 36,
      "outputs": [
        {
          "output_type": "stream",
          "name": "stdout",
          "text": [
            "tensor(1.5164)\n"
          ]
        }
      ]
    }
  ]
}